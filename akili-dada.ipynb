{
 "cells": [
  {
   "cell_type": "code",
   "execution_count": 1,
   "id": "8c3cec92",
   "metadata": {
    "execution": {
     "iopub.execute_input": "2025-02-15T04:57:13.772686Z",
     "iopub.status.busy": "2025-02-15T04:57:13.772289Z",
     "iopub.status.idle": "2025-02-15T04:57:16.957717Z",
     "shell.execute_reply": "2025-02-15T04:57:16.956259Z"
    },
    "papermill": {
     "duration": 3.195363,
     "end_time": "2025-02-15T04:57:16.960125",
     "exception": false,
     "start_time": "2025-02-15T04:57:13.764762",
     "status": "completed"
    },
    "tags": []
   },
   "outputs": [],
   "source": [
    "import numpy as np\n",
    "import pandas as pd\n",
    "import seaborn as sns\n",
    "\n",
    "import os\n",
    "import matplotlib.pyplot as plt\n",
    "\n",
    "import sklearn\n",
    "from sklearn.svm import SVC\n",
    "from sklearn.metrics import balanced_accuracy_score, roc_auc_score, accuracy_score, confusion_matrix, roc_curve\n",
    "from scipy.stats import zscore, pearsonr, uniform\n",
    "from sklearn.linear_model import Ridge\n",
    "from sklearn.model_selection import KFold, StratifiedKFold, RandomizedSearchCV\n",
    "\n",
    "from scipy.io import loadmat\n",
    "\n",
    "from sklearn.model_selection import train_test_split\n",
    "from sklearn.preprocessing import StandardScaler\n",
    "from sklearn.metrics import roc_auc_score\n",
    "from sklearn.metrics import accuracy_score"
   ]
  },
  {
   "cell_type": "code",
   "execution_count": 2,
   "id": "44548898",
   "metadata": {
    "_cell_guid": "b1076dfc-b9ad-4769-8c92-a6c4dae69d19",
    "_uuid": "8f2839f25d086af736a60e9eeb907d3b93b6e0e5",
    "execution": {
     "iopub.execute_input": "2025-02-15T04:57:16.976997Z",
     "iopub.status.busy": "2025-02-15T04:57:16.976071Z",
     "iopub.status.idle": "2025-02-15T04:57:16.994321Z",
     "shell.execute_reply": "2025-02-15T04:57:16.993065Z"
    },
    "papermill": {
     "duration": 0.028096,
     "end_time": "2025-02-15T04:57:16.996127",
     "exception": false,
     "start_time": "2025-02-15T04:57:16.968031",
     "status": "completed"
    },
    "tags": []
   },
   "outputs": [
    {
     "name": "stdout",
     "output_type": "stream",
     "text": [
      "/kaggle/input/widsdatathon2025/SAMPLE_SUBMISSION.xlsx\n",
      "/kaggle/input/widsdatathon2025/Data Dictionary.xlsx\n",
      "/kaggle/input/widsdatathon2025/TEST/TEST_FUNCTIONAL_CONNECTOME_MATRICES.csv\n",
      "/kaggle/input/widsdatathon2025/TEST/TEST_CATEGORICAL.xlsx\n",
      "/kaggle/input/widsdatathon2025/TEST/TEST_QUANTITATIVE_METADATA.xlsx\n",
      "/kaggle/input/widsdatathon2025/TRAIN/TRAIN_FUNCTIONAL_CONNECTOME_MATRICES.csv\n",
      "/kaggle/input/widsdatathon2025/TRAIN/TRAINING_SOLUTIONS.xlsx\n",
      "/kaggle/input/widsdatathon2025/TRAIN/TRAIN_CATEGORICAL_METADATA.xlsx\n",
      "/kaggle/input/widsdatathon2025/TRAIN/TRAIN_QUANTITATIVE_METADATA.xlsx\n"
     ]
    }
   ],
   "source": [
    "for dirname, _, filenames in os.walk('/kaggle/input'):\n",
    "    for filename in filenames:\n",
    "        print(os.path.join(dirname, filename))"
   ]
  },
  {
   "cell_type": "markdown",
   "id": "5aeff37a",
   "metadata": {
    "papermill": {
     "duration": 0.005739,
     "end_time": "2025-02-15T04:57:17.009707",
     "exception": false,
     "start_time": "2025-02-15T04:57:17.003968",
     "status": "completed"
    },
    "tags": []
   },
   "source": [
    "## Loading the Data Frames"
   ]
  },
  {
   "cell_type": "code",
   "execution_count": 3,
   "id": "f8ccbf74",
   "metadata": {
    "execution": {
     "iopub.execute_input": "2025-02-15T04:57:17.023942Z",
     "iopub.status.busy": "2025-02-15T04:57:17.023606Z",
     "iopub.status.idle": "2025-02-15T04:57:17.668189Z",
     "shell.execute_reply": "2025-02-15T04:57:17.667150Z"
    },
    "papermill": {
     "duration": 0.653353,
     "end_time": "2025-02-15T04:57:17.669900",
     "exception": false,
     "start_time": "2025-02-15T04:57:17.016547",
     "status": "completed"
    },
    "tags": []
   },
   "outputs": [
    {
     "data": {
      "text/html": [
       "<div>\n",
       "<style scoped>\n",
       "    .dataframe tbody tr th:only-of-type {\n",
       "        vertical-align: middle;\n",
       "    }\n",
       "\n",
       "    .dataframe tbody tr th {\n",
       "        vertical-align: top;\n",
       "    }\n",
       "\n",
       "    .dataframe thead th {\n",
       "        text-align: right;\n",
       "    }\n",
       "</style>\n",
       "<table border=\"1\" class=\"dataframe\">\n",
       "  <thead>\n",
       "    <tr style=\"text-align: right;\">\n",
       "      <th></th>\n",
       "      <th>participant_id</th>\n",
       "      <th>Basic_Demos_Enroll_Year</th>\n",
       "      <th>Basic_Demos_Study_Site</th>\n",
       "      <th>PreInt_Demos_Fam_Child_Ethnicity</th>\n",
       "      <th>PreInt_Demos_Fam_Child_Race</th>\n",
       "      <th>MRI_Track_Scan_Location</th>\n",
       "      <th>Barratt_Barratt_P1_Edu</th>\n",
       "      <th>Barratt_Barratt_P1_Occ</th>\n",
       "      <th>Barratt_Barratt_P2_Edu</th>\n",
       "      <th>Barratt_Barratt_P2_Occ</th>\n",
       "    </tr>\n",
       "  </thead>\n",
       "  <tbody>\n",
       "    <tr>\n",
       "      <th>0</th>\n",
       "      <td>UmrK0vMLopoR</td>\n",
       "      <td>2016</td>\n",
       "      <td>1</td>\n",
       "      <td>0.0</td>\n",
       "      <td>0</td>\n",
       "      <td>1</td>\n",
       "      <td>21</td>\n",
       "      <td>45</td>\n",
       "      <td>21</td>\n",
       "      <td>45</td>\n",
       "    </tr>\n",
       "    <tr>\n",
       "      <th>1</th>\n",
       "      <td>CPaeQkhcjg7d</td>\n",
       "      <td>2019</td>\n",
       "      <td>3</td>\n",
       "      <td>1.0</td>\n",
       "      <td>2</td>\n",
       "      <td>3</td>\n",
       "      <td>15</td>\n",
       "      <td>15</td>\n",
       "      <td>0</td>\n",
       "      <td>0</td>\n",
       "    </tr>\n",
       "    <tr>\n",
       "      <th>2</th>\n",
       "      <td>Nb4EetVPm3gs</td>\n",
       "      <td>2016</td>\n",
       "      <td>1</td>\n",
       "      <td>1.0</td>\n",
       "      <td>8</td>\n",
       "      <td>1</td>\n",
       "      <td>18</td>\n",
       "      <td>40</td>\n",
       "      <td>0</td>\n",
       "      <td>0</td>\n",
       "    </tr>\n",
       "    <tr>\n",
       "      <th>3</th>\n",
       "      <td>p4vPhVu91o4b</td>\n",
       "      <td>2018</td>\n",
       "      <td>3</td>\n",
       "      <td>0.0</td>\n",
       "      <td>8</td>\n",
       "      <td>3</td>\n",
       "      <td>15</td>\n",
       "      <td>30</td>\n",
       "      <td>18</td>\n",
       "      <td>0</td>\n",
       "    </tr>\n",
       "    <tr>\n",
       "      <th>4</th>\n",
       "      <td>M09PXs7arQ5E</td>\n",
       "      <td>2019</td>\n",
       "      <td>3</td>\n",
       "      <td>0.0</td>\n",
       "      <td>1</td>\n",
       "      <td>3</td>\n",
       "      <td>15</td>\n",
       "      <td>20</td>\n",
       "      <td>0</td>\n",
       "      <td>0</td>\n",
       "    </tr>\n",
       "  </tbody>\n",
       "</table>\n",
       "</div>"
      ],
      "text/plain": [
       "  participant_id  Basic_Demos_Enroll_Year  Basic_Demos_Study_Site  \\\n",
       "0   UmrK0vMLopoR                     2016                       1   \n",
       "1   CPaeQkhcjg7d                     2019                       3   \n",
       "2   Nb4EetVPm3gs                     2016                       1   \n",
       "3   p4vPhVu91o4b                     2018                       3   \n",
       "4   M09PXs7arQ5E                     2019                       3   \n",
       "\n",
       "   PreInt_Demos_Fam_Child_Ethnicity  PreInt_Demos_Fam_Child_Race  \\\n",
       "0                               0.0                            0   \n",
       "1                               1.0                            2   \n",
       "2                               1.0                            8   \n",
       "3                               0.0                            8   \n",
       "4                               0.0                            1   \n",
       "\n",
       "   MRI_Track_Scan_Location  Barratt_Barratt_P1_Edu  Barratt_Barratt_P1_Occ  \\\n",
       "0                        1                      21                      45   \n",
       "1                        3                      15                      15   \n",
       "2                        1                      18                      40   \n",
       "3                        3                      15                      30   \n",
       "4                        3                      15                      20   \n",
       "\n",
       "   Barratt_Barratt_P2_Edu  Barratt_Barratt_P2_Occ  \n",
       "0                      21                      45  \n",
       "1                       0                       0  \n",
       "2                       0                       0  \n",
       "3                      18                       0  \n",
       "4                       0                       0  "
      ]
     },
     "execution_count": 3,
     "metadata": {},
     "output_type": "execute_result"
    }
   ],
   "source": [
    "# Categorical Meta data \n",
    "file_path_trainC = \"/kaggle/input/widsdatathon2025/TRAIN/TRAIN_CATEGORICAL_METADATA.xlsx\"\n",
    "train_cat = pd.read_excel(file_path_trainC)\n",
    "train_cat.head()"
   ]
  },
  {
   "cell_type": "code",
   "execution_count": 4,
   "id": "94c0ca2a",
   "metadata": {
    "execution": {
     "iopub.execute_input": "2025-02-15T04:57:17.685303Z",
     "iopub.status.busy": "2025-02-15T04:57:17.684773Z",
     "iopub.status.idle": "2025-02-15T04:57:17.691448Z",
     "shell.execute_reply": "2025-02-15T04:57:17.690427Z"
    },
    "papermill": {
     "duration": 0.015458,
     "end_time": "2025-02-15T04:57:17.693138",
     "exception": false,
     "start_time": "2025-02-15T04:57:17.677680",
     "status": "completed"
    },
    "tags": []
   },
   "outputs": [
    {
     "data": {
      "text/plain": [
       "Index(['participant_id', 'Basic_Demos_Enroll_Year', 'Basic_Demos_Study_Site',\n",
       "       'PreInt_Demos_Fam_Child_Ethnicity', 'PreInt_Demos_Fam_Child_Race',\n",
       "       'MRI_Track_Scan_Location', 'Barratt_Barratt_P1_Edu',\n",
       "       'Barratt_Barratt_P1_Occ', 'Barratt_Barratt_P2_Edu',\n",
       "       'Barratt_Barratt_P2_Occ'],\n",
       "      dtype='object')"
      ]
     },
     "execution_count": 4,
     "metadata": {},
     "output_type": "execute_result"
    }
   ],
   "source": [
    "train_cat.columns"
   ]
  },
  {
   "cell_type": "code",
   "execution_count": 5,
   "id": "fc7d3c9d",
   "metadata": {
    "execution": {
     "iopub.execute_input": "2025-02-15T04:57:17.706819Z",
     "iopub.status.busy": "2025-02-15T04:57:17.706489Z",
     "iopub.status.idle": "2025-02-15T04:57:33.941583Z",
     "shell.execute_reply": "2025-02-15T04:57:33.940491Z"
    },
    "papermill": {
     "duration": 16.244319,
     "end_time": "2025-02-15T04:57:33.943695",
     "exception": false,
     "start_time": "2025-02-15T04:57:17.699376",
     "status": "completed"
    },
    "tags": []
   },
   "outputs": [
    {
     "data": {
      "text/html": [
       "<div>\n",
       "<style scoped>\n",
       "    .dataframe tbody tr th:only-of-type {\n",
       "        vertical-align: middle;\n",
       "    }\n",
       "\n",
       "    .dataframe tbody tr th {\n",
       "        vertical-align: top;\n",
       "    }\n",
       "\n",
       "    .dataframe thead th {\n",
       "        text-align: right;\n",
       "    }\n",
       "</style>\n",
       "<table border=\"1\" class=\"dataframe\">\n",
       "  <thead>\n",
       "    <tr style=\"text-align: right;\">\n",
       "      <th></th>\n",
       "      <th>participant_id</th>\n",
       "      <th>0throw_1thcolumn</th>\n",
       "      <th>0throw_2thcolumn</th>\n",
       "      <th>0throw_3thcolumn</th>\n",
       "      <th>0throw_4thcolumn</th>\n",
       "      <th>0throw_5thcolumn</th>\n",
       "      <th>0throw_6thcolumn</th>\n",
       "      <th>0throw_7thcolumn</th>\n",
       "      <th>0throw_8thcolumn</th>\n",
       "      <th>0throw_9thcolumn</th>\n",
       "      <th>...</th>\n",
       "      <th>195throw_196thcolumn</th>\n",
       "      <th>195throw_197thcolumn</th>\n",
       "      <th>195throw_198thcolumn</th>\n",
       "      <th>195throw_199thcolumn</th>\n",
       "      <th>196throw_197thcolumn</th>\n",
       "      <th>196throw_198thcolumn</th>\n",
       "      <th>196throw_199thcolumn</th>\n",
       "      <th>197throw_198thcolumn</th>\n",
       "      <th>197throw_199thcolumn</th>\n",
       "      <th>198throw_199thcolumn</th>\n",
       "    </tr>\n",
       "  </thead>\n",
       "  <tbody>\n",
       "    <tr>\n",
       "      <th>0</th>\n",
       "      <td>70z8Q2xdTXM3</td>\n",
       "      <td>0.093473</td>\n",
       "      <td>0.146902</td>\n",
       "      <td>0.067893</td>\n",
       "      <td>0.015141</td>\n",
       "      <td>0.070221</td>\n",
       "      <td>0.063997</td>\n",
       "      <td>0.055382</td>\n",
       "      <td>-0.035335</td>\n",
       "      <td>0.068583</td>\n",
       "      <td>...</td>\n",
       "      <td>0.003404</td>\n",
       "      <td>-0.010359</td>\n",
       "      <td>-0.050968</td>\n",
       "      <td>-0.014365</td>\n",
       "      <td>0.128066</td>\n",
       "      <td>0.112646</td>\n",
       "      <td>-0.058980</td>\n",
       "      <td>0.028228</td>\n",
       "      <td>0.133582</td>\n",
       "      <td>0.143372</td>\n",
       "    </tr>\n",
       "    <tr>\n",
       "      <th>1</th>\n",
       "      <td>WHWymJu6zNZi</td>\n",
       "      <td>0.029580</td>\n",
       "      <td>0.179323</td>\n",
       "      <td>0.112933</td>\n",
       "      <td>0.038291</td>\n",
       "      <td>0.104899</td>\n",
       "      <td>0.064250</td>\n",
       "      <td>0.008488</td>\n",
       "      <td>0.077505</td>\n",
       "      <td>-0.004750</td>\n",
       "      <td>...</td>\n",
       "      <td>-0.008409</td>\n",
       "      <td>-0.008479</td>\n",
       "      <td>0.020891</td>\n",
       "      <td>0.017754</td>\n",
       "      <td>0.094040</td>\n",
       "      <td>0.035141</td>\n",
       "      <td>0.032537</td>\n",
       "      <td>0.075007</td>\n",
       "      <td>0.115350</td>\n",
       "      <td>0.138200</td>\n",
       "    </tr>\n",
       "    <tr>\n",
       "      <th>2</th>\n",
       "      <td>4PAQp1M6EyAo</td>\n",
       "      <td>-0.051580</td>\n",
       "      <td>0.139734</td>\n",
       "      <td>0.068295</td>\n",
       "      <td>0.046991</td>\n",
       "      <td>0.111085</td>\n",
       "      <td>0.026978</td>\n",
       "      <td>0.151377</td>\n",
       "      <td>0.021198</td>\n",
       "      <td>0.083721</td>\n",
       "      <td>...</td>\n",
       "      <td>0.053245</td>\n",
       "      <td>-0.028003</td>\n",
       "      <td>0.028773</td>\n",
       "      <td>0.024556</td>\n",
       "      <td>0.166343</td>\n",
       "      <td>0.058925</td>\n",
       "      <td>0.035485</td>\n",
       "      <td>0.063661</td>\n",
       "      <td>0.042862</td>\n",
       "      <td>0.162162</td>\n",
       "    </tr>\n",
       "    <tr>\n",
       "      <th>3</th>\n",
       "      <td>obEacy4Of68I</td>\n",
       "      <td>0.016273</td>\n",
       "      <td>0.204702</td>\n",
       "      <td>0.115980</td>\n",
       "      <td>0.043103</td>\n",
       "      <td>0.056431</td>\n",
       "      <td>0.057615</td>\n",
       "      <td>0.055773</td>\n",
       "      <td>0.075030</td>\n",
       "      <td>0.001033</td>\n",
       "      <td>...</td>\n",
       "      <td>-0.023918</td>\n",
       "      <td>-0.005356</td>\n",
       "      <td>0.018607</td>\n",
       "      <td>0.016193</td>\n",
       "      <td>0.072955</td>\n",
       "      <td>0.130135</td>\n",
       "      <td>0.056120</td>\n",
       "      <td>0.084784</td>\n",
       "      <td>0.114148</td>\n",
       "      <td>0.190584</td>\n",
       "    </tr>\n",
       "    <tr>\n",
       "      <th>4</th>\n",
       "      <td>s7WzzDcmDOhF</td>\n",
       "      <td>0.065771</td>\n",
       "      <td>0.098714</td>\n",
       "      <td>0.097604</td>\n",
       "      <td>0.112988</td>\n",
       "      <td>0.071139</td>\n",
       "      <td>0.085607</td>\n",
       "      <td>0.019392</td>\n",
       "      <td>-0.036403</td>\n",
       "      <td>-0.020375</td>\n",
       "      <td>...</td>\n",
       "      <td>0.066439</td>\n",
       "      <td>-0.076680</td>\n",
       "      <td>-0.047530</td>\n",
       "      <td>-0.031443</td>\n",
       "      <td>0.221213</td>\n",
       "      <td>0.007343</td>\n",
       "      <td>0.005763</td>\n",
       "      <td>0.083820</td>\n",
       "      <td>0.079582</td>\n",
       "      <td>0.067269</td>\n",
       "    </tr>\n",
       "  </tbody>\n",
       "</table>\n",
       "<p>5 rows × 19901 columns</p>\n",
       "</div>"
      ],
      "text/plain": [
       "  participant_id  0throw_1thcolumn  0throw_2thcolumn  0throw_3thcolumn  \\\n",
       "0   70z8Q2xdTXM3          0.093473          0.146902          0.067893   \n",
       "1   WHWymJu6zNZi          0.029580          0.179323          0.112933   \n",
       "2   4PAQp1M6EyAo         -0.051580          0.139734          0.068295   \n",
       "3   obEacy4Of68I          0.016273          0.204702          0.115980   \n",
       "4   s7WzzDcmDOhF          0.065771          0.098714          0.097604   \n",
       "\n",
       "   0throw_4thcolumn  0throw_5thcolumn  0throw_6thcolumn  0throw_7thcolumn  \\\n",
       "0          0.015141          0.070221          0.063997          0.055382   \n",
       "1          0.038291          0.104899          0.064250          0.008488   \n",
       "2          0.046991          0.111085          0.026978          0.151377   \n",
       "3          0.043103          0.056431          0.057615          0.055773   \n",
       "4          0.112988          0.071139          0.085607          0.019392   \n",
       "\n",
       "   0throw_8thcolumn  0throw_9thcolumn  ...  195throw_196thcolumn  \\\n",
       "0         -0.035335          0.068583  ...              0.003404   \n",
       "1          0.077505         -0.004750  ...             -0.008409   \n",
       "2          0.021198          0.083721  ...              0.053245   \n",
       "3          0.075030          0.001033  ...             -0.023918   \n",
       "4         -0.036403         -0.020375  ...              0.066439   \n",
       "\n",
       "   195throw_197thcolumn  195throw_198thcolumn  195throw_199thcolumn  \\\n",
       "0             -0.010359             -0.050968             -0.014365   \n",
       "1             -0.008479              0.020891              0.017754   \n",
       "2             -0.028003              0.028773              0.024556   \n",
       "3             -0.005356              0.018607              0.016193   \n",
       "4             -0.076680             -0.047530             -0.031443   \n",
       "\n",
       "   196throw_197thcolumn  196throw_198thcolumn  196throw_199thcolumn  \\\n",
       "0              0.128066              0.112646             -0.058980   \n",
       "1              0.094040              0.035141              0.032537   \n",
       "2              0.166343              0.058925              0.035485   \n",
       "3              0.072955              0.130135              0.056120   \n",
       "4              0.221213              0.007343              0.005763   \n",
       "\n",
       "   197throw_198thcolumn  197throw_199thcolumn  198throw_199thcolumn  \n",
       "0              0.028228              0.133582              0.143372  \n",
       "1              0.075007              0.115350              0.138200  \n",
       "2              0.063661              0.042862              0.162162  \n",
       "3              0.084784              0.114148              0.190584  \n",
       "4              0.083820              0.079582              0.067269  \n",
       "\n",
       "[5 rows x 19901 columns]"
      ]
     },
     "execution_count": 5,
     "metadata": {},
     "output_type": "execute_result"
    }
   ],
   "source": [
    "# Functional Conncectome Matrices\n",
    "# Describes the interactions between different brain regions and is given in the form of a matrix\n",
    "# +ve values brain regions are more active together while -ve values brain regions are less active together\n",
    "file_path_trainFCM = '/kaggle/input/widsdatathon2025/TRAIN/TRAIN_FUNCTIONAL_CONNECTOME_MATRICES.csv'\n",
    "train_FCM = pd.read_csv(file_path_trainFCM)\n",
    "train_FCM.head()"
   ]
  },
  {
   "cell_type": "code",
   "execution_count": 6,
   "id": "a68eea47",
   "metadata": {
    "execution": {
     "iopub.execute_input": "2025-02-15T04:57:33.957884Z",
     "iopub.status.busy": "2025-02-15T04:57:33.957549Z",
     "iopub.status.idle": "2025-02-15T04:57:33.964054Z",
     "shell.execute_reply": "2025-02-15T04:57:33.963106Z"
    },
    "papermill": {
     "duration": 0.015722,
     "end_time": "2025-02-15T04:57:33.965843",
     "exception": false,
     "start_time": "2025-02-15T04:57:33.950121",
     "status": "completed"
    },
    "tags": []
   },
   "outputs": [
    {
     "data": {
      "text/plain": [
       "Index(['participant_id', '0throw_1thcolumn', '0throw_2thcolumn',\n",
       "       '0throw_3thcolumn', '0throw_4thcolumn', '0throw_5thcolumn',\n",
       "       '0throw_6thcolumn', '0throw_7thcolumn', '0throw_8thcolumn',\n",
       "       '0throw_9thcolumn',\n",
       "       ...\n",
       "       '195throw_196thcolumn', '195throw_197thcolumn', '195throw_198thcolumn',\n",
       "       '195throw_199thcolumn', '196throw_197thcolumn', '196throw_198thcolumn',\n",
       "       '196throw_199thcolumn', '197throw_198thcolumn', '197throw_199thcolumn',\n",
       "       '198throw_199thcolumn'],\n",
       "      dtype='object', length=19901)"
      ]
     },
     "execution_count": 6,
     "metadata": {},
     "output_type": "execute_result"
    }
   ],
   "source": [
    "train_FCM.columns"
   ]
  },
  {
   "cell_type": "code",
   "execution_count": 7,
   "id": "c2cd607b",
   "metadata": {
    "execution": {
     "iopub.execute_input": "2025-02-15T04:57:33.980145Z",
     "iopub.status.busy": "2025-02-15T04:57:33.979828Z",
     "iopub.status.idle": "2025-02-15T04:57:34.285125Z",
     "shell.execute_reply": "2025-02-15T04:57:34.284057Z"
    },
    "papermill": {
     "duration": 0.314489,
     "end_time": "2025-02-15T04:57:34.286992",
     "exception": false,
     "start_time": "2025-02-15T04:57:33.972503",
     "status": "completed"
    },
    "tags": []
   },
   "outputs": [
    {
     "data": {
      "text/html": [
       "<div>\n",
       "<style scoped>\n",
       "    .dataframe tbody tr th:only-of-type {\n",
       "        vertical-align: middle;\n",
       "    }\n",
       "\n",
       "    .dataframe tbody tr th {\n",
       "        vertical-align: top;\n",
       "    }\n",
       "\n",
       "    .dataframe thead th {\n",
       "        text-align: right;\n",
       "    }\n",
       "</style>\n",
       "<table border=\"1\" class=\"dataframe\">\n",
       "  <thead>\n",
       "    <tr style=\"text-align: right;\">\n",
       "      <th></th>\n",
       "      <th>participant_id</th>\n",
       "      <th>EHQ_EHQ_Total</th>\n",
       "      <th>ColorVision_CV_Score</th>\n",
       "      <th>APQ_P_APQ_P_CP</th>\n",
       "      <th>APQ_P_APQ_P_ID</th>\n",
       "      <th>APQ_P_APQ_P_INV</th>\n",
       "      <th>APQ_P_APQ_P_OPD</th>\n",
       "      <th>APQ_P_APQ_P_PM</th>\n",
       "      <th>APQ_P_APQ_P_PP</th>\n",
       "      <th>SDQ_SDQ_Conduct_Problems</th>\n",
       "      <th>SDQ_SDQ_Difficulties_Total</th>\n",
       "      <th>SDQ_SDQ_Emotional_Problems</th>\n",
       "      <th>SDQ_SDQ_Externalizing</th>\n",
       "      <th>SDQ_SDQ_Generating_Impact</th>\n",
       "      <th>SDQ_SDQ_Hyperactivity</th>\n",
       "      <th>SDQ_SDQ_Internalizing</th>\n",
       "      <th>SDQ_SDQ_Peer_Problems</th>\n",
       "      <th>SDQ_SDQ_Prosocial</th>\n",
       "      <th>MRI_Track_Age_at_Scan</th>\n",
       "    </tr>\n",
       "  </thead>\n",
       "  <tbody>\n",
       "    <tr>\n",
       "      <th>0</th>\n",
       "      <td>UmrK0vMLopoR</td>\n",
       "      <td>40.00</td>\n",
       "      <td>13</td>\n",
       "      <td>3</td>\n",
       "      <td>10</td>\n",
       "      <td>47</td>\n",
       "      <td>13</td>\n",
       "      <td>11</td>\n",
       "      <td>28</td>\n",
       "      <td>0</td>\n",
       "      <td>6</td>\n",
       "      <td>1</td>\n",
       "      <td>5</td>\n",
       "      <td>0</td>\n",
       "      <td>5</td>\n",
       "      <td>1</td>\n",
       "      <td>0</td>\n",
       "      <td>10</td>\n",
       "      <td>NaN</td>\n",
       "    </tr>\n",
       "    <tr>\n",
       "      <th>1</th>\n",
       "      <td>CPaeQkhcjg7d</td>\n",
       "      <td>-94.47</td>\n",
       "      <td>14</td>\n",
       "      <td>3</td>\n",
       "      <td>13</td>\n",
       "      <td>34</td>\n",
       "      <td>18</td>\n",
       "      <td>23</td>\n",
       "      <td>30</td>\n",
       "      <td>0</td>\n",
       "      <td>18</td>\n",
       "      <td>6</td>\n",
       "      <td>8</td>\n",
       "      <td>7</td>\n",
       "      <td>8</td>\n",
       "      <td>10</td>\n",
       "      <td>4</td>\n",
       "      <td>5</td>\n",
       "      <td>NaN</td>\n",
       "    </tr>\n",
       "    <tr>\n",
       "      <th>2</th>\n",
       "      <td>Nb4EetVPm3gs</td>\n",
       "      <td>-46.67</td>\n",
       "      <td>14</td>\n",
       "      <td>4</td>\n",
       "      <td>10</td>\n",
       "      <td>35</td>\n",
       "      <td>16</td>\n",
       "      <td>10</td>\n",
       "      <td>29</td>\n",
       "      <td>1</td>\n",
       "      <td>14</td>\n",
       "      <td>2</td>\n",
       "      <td>8</td>\n",
       "      <td>5</td>\n",
       "      <td>7</td>\n",
       "      <td>6</td>\n",
       "      <td>4</td>\n",
       "      <td>9</td>\n",
       "      <td>8.239904</td>\n",
       "    </tr>\n",
       "    <tr>\n",
       "      <th>3</th>\n",
       "      <td>p4vPhVu91o4b</td>\n",
       "      <td>-26.68</td>\n",
       "      <td>10</td>\n",
       "      <td>5</td>\n",
       "      <td>12</td>\n",
       "      <td>39</td>\n",
       "      <td>19</td>\n",
       "      <td>16</td>\n",
       "      <td>28</td>\n",
       "      <td>6</td>\n",
       "      <td>24</td>\n",
       "      <td>4</td>\n",
       "      <td>16</td>\n",
       "      <td>9</td>\n",
       "      <td>10</td>\n",
       "      <td>8</td>\n",
       "      <td>4</td>\n",
       "      <td>6</td>\n",
       "      <td>NaN</td>\n",
       "    </tr>\n",
       "    <tr>\n",
       "      <th>4</th>\n",
       "      <td>M09PXs7arQ5E</td>\n",
       "      <td>0.00</td>\n",
       "      <td>14</td>\n",
       "      <td>5</td>\n",
       "      <td>15</td>\n",
       "      <td>40</td>\n",
       "      <td>20</td>\n",
       "      <td>24</td>\n",
       "      <td>28</td>\n",
       "      <td>1</td>\n",
       "      <td>18</td>\n",
       "      <td>4</td>\n",
       "      <td>11</td>\n",
       "      <td>4</td>\n",
       "      <td>10</td>\n",
       "      <td>7</td>\n",
       "      <td>3</td>\n",
       "      <td>9</td>\n",
       "      <td>8.940679</td>\n",
       "    </tr>\n",
       "  </tbody>\n",
       "</table>\n",
       "</div>"
      ],
      "text/plain": [
       "  participant_id  EHQ_EHQ_Total  ColorVision_CV_Score  APQ_P_APQ_P_CP  \\\n",
       "0   UmrK0vMLopoR          40.00                    13               3   \n",
       "1   CPaeQkhcjg7d         -94.47                    14               3   \n",
       "2   Nb4EetVPm3gs         -46.67                    14               4   \n",
       "3   p4vPhVu91o4b         -26.68                    10               5   \n",
       "4   M09PXs7arQ5E           0.00                    14               5   \n",
       "\n",
       "   APQ_P_APQ_P_ID  APQ_P_APQ_P_INV  APQ_P_APQ_P_OPD  APQ_P_APQ_P_PM  \\\n",
       "0              10               47               13              11   \n",
       "1              13               34               18              23   \n",
       "2              10               35               16              10   \n",
       "3              12               39               19              16   \n",
       "4              15               40               20              24   \n",
       "\n",
       "   APQ_P_APQ_P_PP  SDQ_SDQ_Conduct_Problems  SDQ_SDQ_Difficulties_Total  \\\n",
       "0              28                         0                           6   \n",
       "1              30                         0                          18   \n",
       "2              29                         1                          14   \n",
       "3              28                         6                          24   \n",
       "4              28                         1                          18   \n",
       "\n",
       "   SDQ_SDQ_Emotional_Problems  SDQ_SDQ_Externalizing  \\\n",
       "0                           1                      5   \n",
       "1                           6                      8   \n",
       "2                           2                      8   \n",
       "3                           4                     16   \n",
       "4                           4                     11   \n",
       "\n",
       "   SDQ_SDQ_Generating_Impact  SDQ_SDQ_Hyperactivity  SDQ_SDQ_Internalizing  \\\n",
       "0                          0                      5                      1   \n",
       "1                          7                      8                     10   \n",
       "2                          5                      7                      6   \n",
       "3                          9                     10                      8   \n",
       "4                          4                     10                      7   \n",
       "\n",
       "   SDQ_SDQ_Peer_Problems  SDQ_SDQ_Prosocial  MRI_Track_Age_at_Scan  \n",
       "0                      0                 10                    NaN  \n",
       "1                      4                  5                    NaN  \n",
       "2                      4                  9               8.239904  \n",
       "3                      4                  6                    NaN  \n",
       "4                      3                  9               8.940679  "
      ]
     },
     "execution_count": 7,
     "metadata": {},
     "output_type": "execute_result"
    }
   ],
   "source": [
    "# Quantitative Meta data of the participants(Socio-demographic Information)\n",
    "file_path_trainQ = '/kaggle/input/widsdatathon2025/TRAIN/TRAIN_QUANTITATIVE_METADATA.xlsx'\n",
    "train_Quant = pd.read_excel(file_path_trainQ)\n",
    "train_Quant.head()"
   ]
  },
  {
   "cell_type": "code",
   "execution_count": 8,
   "id": "098a743f",
   "metadata": {
    "execution": {
     "iopub.execute_input": "2025-02-15T04:57:34.301905Z",
     "iopub.status.busy": "2025-02-15T04:57:34.301576Z",
     "iopub.status.idle": "2025-02-15T04:57:34.307619Z",
     "shell.execute_reply": "2025-02-15T04:57:34.306499Z"
    },
    "papermill": {
     "duration": 0.015508,
     "end_time": "2025-02-15T04:57:34.309382",
     "exception": false,
     "start_time": "2025-02-15T04:57:34.293874",
     "status": "completed"
    },
    "tags": []
   },
   "outputs": [
    {
     "data": {
      "text/plain": [
       "Index(['participant_id', 'EHQ_EHQ_Total', 'ColorVision_CV_Score',\n",
       "       'APQ_P_APQ_P_CP', 'APQ_P_APQ_P_ID', 'APQ_P_APQ_P_INV',\n",
       "       'APQ_P_APQ_P_OPD', 'APQ_P_APQ_P_PM', 'APQ_P_APQ_P_PP',\n",
       "       'SDQ_SDQ_Conduct_Problems', 'SDQ_SDQ_Difficulties_Total',\n",
       "       'SDQ_SDQ_Emotional_Problems', 'SDQ_SDQ_Externalizing',\n",
       "       'SDQ_SDQ_Generating_Impact', 'SDQ_SDQ_Hyperactivity',\n",
       "       'SDQ_SDQ_Internalizing', 'SDQ_SDQ_Peer_Problems', 'SDQ_SDQ_Prosocial',\n",
       "       'MRI_Track_Age_at_Scan'],\n",
       "      dtype='object')"
      ]
     },
     "execution_count": 8,
     "metadata": {},
     "output_type": "execute_result"
    }
   ],
   "source": [
    "train_Quant.columns"
   ]
  },
  {
   "cell_type": "code",
   "execution_count": 9,
   "id": "1a81a9da",
   "metadata": {
    "execution": {
     "iopub.execute_input": "2025-02-15T04:57:34.325131Z",
     "iopub.status.busy": "2025-02-15T04:57:34.324753Z",
     "iopub.status.idle": "2025-02-15T04:57:34.413058Z",
     "shell.execute_reply": "2025-02-15T04:57:34.411962Z"
    },
    "papermill": {
     "duration": 0.098605,
     "end_time": "2025-02-15T04:57:34.415015",
     "exception": false,
     "start_time": "2025-02-15T04:57:34.316410",
     "status": "completed"
    },
    "tags": []
   },
   "outputs": [
    {
     "data": {
      "text/html": [
       "<div>\n",
       "<style scoped>\n",
       "    .dataframe tbody tr th:only-of-type {\n",
       "        vertical-align: middle;\n",
       "    }\n",
       "\n",
       "    .dataframe tbody tr th {\n",
       "        vertical-align: top;\n",
       "    }\n",
       "\n",
       "    .dataframe thead th {\n",
       "        text-align: right;\n",
       "    }\n",
       "</style>\n",
       "<table border=\"1\" class=\"dataframe\">\n",
       "  <thead>\n",
       "    <tr style=\"text-align: right;\">\n",
       "      <th></th>\n",
       "      <th>participant_id</th>\n",
       "      <th>ADHD_Outcome</th>\n",
       "      <th>Sex_F</th>\n",
       "    </tr>\n",
       "  </thead>\n",
       "  <tbody>\n",
       "    <tr>\n",
       "      <th>0</th>\n",
       "      <td>UmrK0vMLopoR</td>\n",
       "      <td>1</td>\n",
       "      <td>1</td>\n",
       "    </tr>\n",
       "    <tr>\n",
       "      <th>1</th>\n",
       "      <td>CPaeQkhcjg7d</td>\n",
       "      <td>1</td>\n",
       "      <td>0</td>\n",
       "    </tr>\n",
       "    <tr>\n",
       "      <th>2</th>\n",
       "      <td>Nb4EetVPm3gs</td>\n",
       "      <td>1</td>\n",
       "      <td>0</td>\n",
       "    </tr>\n",
       "    <tr>\n",
       "      <th>3</th>\n",
       "      <td>p4vPhVu91o4b</td>\n",
       "      <td>1</td>\n",
       "      <td>1</td>\n",
       "    </tr>\n",
       "    <tr>\n",
       "      <th>4</th>\n",
       "      <td>M09PXs7arQ5E</td>\n",
       "      <td>1</td>\n",
       "      <td>1</td>\n",
       "    </tr>\n",
       "  </tbody>\n",
       "</table>\n",
       "</div>"
      ],
      "text/plain": [
       "  participant_id  ADHD_Outcome  Sex_F\n",
       "0   UmrK0vMLopoR             1      1\n",
       "1   CPaeQkhcjg7d             1      0\n",
       "2   Nb4EetVPm3gs             1      0\n",
       "3   p4vPhVu91o4b             1      1\n",
       "4   M09PXs7arQ5E             1      1"
      ]
     },
     "execution_count": 9,
     "metadata": {},
     "output_type": "execute_result"
    }
   ],
   "source": [
    "# ADHD Diagnosis and Gender of Pearicipants\n",
    "# female:1, male:0,ADHD:1, no ADHD:0 -> Target Variables\n",
    "file_path_trainS = '/kaggle/input/widsdatathon2025/TRAIN/TRAINING_SOLUTIONS.xlsx'\n",
    "train_Solutions = pd.read_excel(file_path_trainS)\n",
    "train_Solutions.head()"
   ]
  },
  {
   "cell_type": "code",
   "execution_count": 10,
   "id": "95d5c6cf",
   "metadata": {
    "execution": {
     "iopub.execute_input": "2025-02-15T04:57:34.430831Z",
     "iopub.status.busy": "2025-02-15T04:57:34.430434Z",
     "iopub.status.idle": "2025-02-15T04:57:34.437556Z",
     "shell.execute_reply": "2025-02-15T04:57:34.436179Z"
    },
    "papermill": {
     "duration": 0.017354,
     "end_time": "2025-02-15T04:57:34.439495",
     "exception": false,
     "start_time": "2025-02-15T04:57:34.422141",
     "status": "completed"
    },
    "tags": []
   },
   "outputs": [
    {
     "data": {
      "text/plain": [
       "Index(['participant_id', 'ADHD_Outcome', 'Sex_F'], dtype='object')"
      ]
     },
     "execution_count": 10,
     "metadata": {},
     "output_type": "execute_result"
    }
   ],
   "source": [
    "train_Solutions.columns"
   ]
  },
  {
   "cell_type": "markdown",
   "id": "ebd77d28",
   "metadata": {
    "papermill": {
     "duration": 0.006938,
     "end_time": "2025-02-15T04:57:34.454288",
     "exception": false,
     "start_time": "2025-02-15T04:57:34.447350",
     "status": "completed"
    },
    "tags": []
   },
   "source": [
    "# > Exploring our Data \n",
    "## EDA(Explanatory Data Analysis)\n",
    "The process of examining and summarizing data to uncover patterns, spor problems and prepare for modeling. This helps us to understand the dataset, Detect issues(missing, data and trends) and Discover relationships and trends.\n",
    "Use of .info() and .describe() to summarize the data set \n",
    "And use of .value_counts()\n",
    "\n"
   ]
  },
  {
   "cell_type": "code",
   "execution_count": 11,
   "id": "1f08b28c",
   "metadata": {
    "execution": {
     "iopub.execute_input": "2025-02-15T04:57:34.470792Z",
     "iopub.status.busy": "2025-02-15T04:57:34.470350Z",
     "iopub.status.idle": "2025-02-15T04:57:34.495168Z",
     "shell.execute_reply": "2025-02-15T04:57:34.493669Z"
    },
    "papermill": {
     "duration": 0.035369,
     "end_time": "2025-02-15T04:57:34.497185",
     "exception": false,
     "start_time": "2025-02-15T04:57:34.461816",
     "status": "completed"
    },
    "tags": []
   },
   "outputs": [
    {
     "name": "stdout",
     "output_type": "stream",
     "text": [
      "<class 'pandas.core.frame.DataFrame'>\n",
      "RangeIndex: 1213 entries, 0 to 1212\n",
      "Data columns (total 10 columns):\n",
      " #   Column                            Non-Null Count  Dtype  \n",
      "---  ------                            --------------  -----  \n",
      " 0   participant_id                    1213 non-null   object \n",
      " 1   Basic_Demos_Enroll_Year           1213 non-null   int64  \n",
      " 2   Basic_Demos_Study_Site            1213 non-null   int64  \n",
      " 3   PreInt_Demos_Fam_Child_Ethnicity  1202 non-null   float64\n",
      " 4   PreInt_Demos_Fam_Child_Race       1213 non-null   int64  \n",
      " 5   MRI_Track_Scan_Location           1213 non-null   int64  \n",
      " 6   Barratt_Barratt_P1_Edu            1213 non-null   int64  \n",
      " 7   Barratt_Barratt_P1_Occ            1213 non-null   int64  \n",
      " 8   Barratt_Barratt_P2_Edu            1213 non-null   int64  \n",
      " 9   Barratt_Barratt_P2_Occ            1213 non-null   int64  \n",
      "dtypes: float64(1), int64(8), object(1)\n",
      "memory usage: 94.9+ KB\n"
     ]
    }
   ],
   "source": [
    "train_cat.info()"
   ]
  },
  {
   "cell_type": "code",
   "execution_count": 12,
   "id": "f9ed6869",
   "metadata": {
    "execution": {
     "iopub.execute_input": "2025-02-15T04:57:34.514103Z",
     "iopub.status.busy": "2025-02-15T04:57:34.513722Z",
     "iopub.status.idle": "2025-02-15T04:57:34.550674Z",
     "shell.execute_reply": "2025-02-15T04:57:34.549278Z"
    },
    "papermill": {
     "duration": 0.047568,
     "end_time": "2025-02-15T04:57:34.552594",
     "exception": false,
     "start_time": "2025-02-15T04:57:34.505026",
     "status": "completed"
    },
    "tags": []
   },
   "outputs": [
    {
     "data": {
      "text/html": [
       "<div>\n",
       "<style scoped>\n",
       "    .dataframe tbody tr th:only-of-type {\n",
       "        vertical-align: middle;\n",
       "    }\n",
       "\n",
       "    .dataframe tbody tr th {\n",
       "        vertical-align: top;\n",
       "    }\n",
       "\n",
       "    .dataframe thead th {\n",
       "        text-align: right;\n",
       "    }\n",
       "</style>\n",
       "<table border=\"1\" class=\"dataframe\">\n",
       "  <thead>\n",
       "    <tr style=\"text-align: right;\">\n",
       "      <th></th>\n",
       "      <th>Basic_Demos_Enroll_Year</th>\n",
       "      <th>Basic_Demos_Study_Site</th>\n",
       "      <th>PreInt_Demos_Fam_Child_Ethnicity</th>\n",
       "      <th>PreInt_Demos_Fam_Child_Race</th>\n",
       "      <th>MRI_Track_Scan_Location</th>\n",
       "      <th>Barratt_Barratt_P1_Edu</th>\n",
       "      <th>Barratt_Barratt_P1_Occ</th>\n",
       "      <th>Barratt_Barratt_P2_Edu</th>\n",
       "      <th>Barratt_Barratt_P2_Occ</th>\n",
       "    </tr>\n",
       "  </thead>\n",
       "  <tbody>\n",
       "    <tr>\n",
       "      <th>count</th>\n",
       "      <td>1213.000000</td>\n",
       "      <td>1213.000000</td>\n",
       "      <td>1202.000000</td>\n",
       "      <td>1213.000000</td>\n",
       "      <td>1213.000000</td>\n",
       "      <td>1213.000000</td>\n",
       "      <td>1213.000000</td>\n",
       "      <td>1213.000000</td>\n",
       "      <td>1213.000000</td>\n",
       "    </tr>\n",
       "    <tr>\n",
       "      <th>mean</th>\n",
       "      <td>2017.652102</td>\n",
       "      <td>2.014839</td>\n",
       "      <td>0.424293</td>\n",
       "      <td>2.080791</td>\n",
       "      <td>2.288541</td>\n",
       "      <td>17.641385</td>\n",
       "      <td>24.892828</td>\n",
       "      <td>14.122012</td>\n",
       "      <td>24.719703</td>\n",
       "    </tr>\n",
       "    <tr>\n",
       "      <th>std</th>\n",
       "      <td>1.122522</td>\n",
       "      <td>1.135147</td>\n",
       "      <td>0.687470</td>\n",
       "      <td>3.164636</td>\n",
       "      <td>0.758348</td>\n",
       "      <td>4.004639</td>\n",
       "      <td>17.025899</td>\n",
       "      <td>7.201023</td>\n",
       "      <td>17.171113</td>\n",
       "    </tr>\n",
       "    <tr>\n",
       "      <th>min</th>\n",
       "      <td>2015.000000</td>\n",
       "      <td>1.000000</td>\n",
       "      <td>0.000000</td>\n",
       "      <td>0.000000</td>\n",
       "      <td>0.000000</td>\n",
       "      <td>0.000000</td>\n",
       "      <td>0.000000</td>\n",
       "      <td>0.000000</td>\n",
       "      <td>0.000000</td>\n",
       "    </tr>\n",
       "    <tr>\n",
       "      <th>25%</th>\n",
       "      <td>2017.000000</td>\n",
       "      <td>1.000000</td>\n",
       "      <td>0.000000</td>\n",
       "      <td>0.000000</td>\n",
       "      <td>2.000000</td>\n",
       "      <td>15.000000</td>\n",
       "      <td>0.000000</td>\n",
       "      <td>12.000000</td>\n",
       "      <td>5.000000</td>\n",
       "    </tr>\n",
       "    <tr>\n",
       "      <th>50%</th>\n",
       "      <td>2018.000000</td>\n",
       "      <td>1.000000</td>\n",
       "      <td>0.000000</td>\n",
       "      <td>0.000000</td>\n",
       "      <td>2.000000</td>\n",
       "      <td>18.000000</td>\n",
       "      <td>30.000000</td>\n",
       "      <td>18.000000</td>\n",
       "      <td>30.000000</td>\n",
       "    </tr>\n",
       "    <tr>\n",
       "      <th>75%</th>\n",
       "      <td>2019.000000</td>\n",
       "      <td>3.000000</td>\n",
       "      <td>1.000000</td>\n",
       "      <td>2.000000</td>\n",
       "      <td>3.000000</td>\n",
       "      <td>21.000000</td>\n",
       "      <td>40.000000</td>\n",
       "      <td>21.000000</td>\n",
       "      <td>40.000000</td>\n",
       "    </tr>\n",
       "    <tr>\n",
       "      <th>max</th>\n",
       "      <td>2020.000000</td>\n",
       "      <td>4.000000</td>\n",
       "      <td>3.000000</td>\n",
       "      <td>11.000000</td>\n",
       "      <td>4.000000</td>\n",
       "      <td>21.000000</td>\n",
       "      <td>45.000000</td>\n",
       "      <td>21.000000</td>\n",
       "      <td>45.000000</td>\n",
       "    </tr>\n",
       "  </tbody>\n",
       "</table>\n",
       "</div>"
      ],
      "text/plain": [
       "       Basic_Demos_Enroll_Year  Basic_Demos_Study_Site  \\\n",
       "count              1213.000000             1213.000000   \n",
       "mean               2017.652102                2.014839   \n",
       "std                   1.122522                1.135147   \n",
       "min                2015.000000                1.000000   \n",
       "25%                2017.000000                1.000000   \n",
       "50%                2018.000000                1.000000   \n",
       "75%                2019.000000                3.000000   \n",
       "max                2020.000000                4.000000   \n",
       "\n",
       "       PreInt_Demos_Fam_Child_Ethnicity  PreInt_Demos_Fam_Child_Race  \\\n",
       "count                       1202.000000                  1213.000000   \n",
       "mean                           0.424293                     2.080791   \n",
       "std                            0.687470                     3.164636   \n",
       "min                            0.000000                     0.000000   \n",
       "25%                            0.000000                     0.000000   \n",
       "50%                            0.000000                     0.000000   \n",
       "75%                            1.000000                     2.000000   \n",
       "max                            3.000000                    11.000000   \n",
       "\n",
       "       MRI_Track_Scan_Location  Barratt_Barratt_P1_Edu  \\\n",
       "count              1213.000000             1213.000000   \n",
       "mean                  2.288541               17.641385   \n",
       "std                   0.758348                4.004639   \n",
       "min                   0.000000                0.000000   \n",
       "25%                   2.000000               15.000000   \n",
       "50%                   2.000000               18.000000   \n",
       "75%                   3.000000               21.000000   \n",
       "max                   4.000000               21.000000   \n",
       "\n",
       "       Barratt_Barratt_P1_Occ  Barratt_Barratt_P2_Edu  Barratt_Barratt_P2_Occ  \n",
       "count             1213.000000             1213.000000             1213.000000  \n",
       "mean                24.892828               14.122012               24.719703  \n",
       "std                 17.025899                7.201023               17.171113  \n",
       "min                  0.000000                0.000000                0.000000  \n",
       "25%                  0.000000               12.000000                5.000000  \n",
       "50%                 30.000000               18.000000               30.000000  \n",
       "75%                 40.000000               21.000000               40.000000  \n",
       "max                 45.000000               21.000000               45.000000  "
      ]
     },
     "execution_count": 12,
     "metadata": {},
     "output_type": "execute_result"
    }
   ],
   "source": [
    "train_cat.describe()"
   ]
  },
  {
   "cell_type": "markdown",
   "id": "69130a73",
   "metadata": {
    "papermill": {
     "duration": 0.00712,
     "end_time": "2025-02-15T04:57:34.567291",
     "exception": false,
     "start_time": "2025-02-15T04:57:34.560171",
     "status": "completed"
    },
    "tags": []
   },
   "source": [
    "### Distribution of ADHD between the two genders"
   ]
  },
  {
   "cell_type": "code",
   "execution_count": 13,
   "id": "f064ac5f",
   "metadata": {
    "execution": {
     "iopub.execute_input": "2025-02-15T04:57:34.583757Z",
     "iopub.status.busy": "2025-02-15T04:57:34.583225Z",
     "iopub.status.idle": "2025-02-15T04:57:34.877115Z",
     "shell.execute_reply": "2025-02-15T04:57:34.875885Z"
    },
    "papermill": {
     "duration": 0.304307,
     "end_time": "2025-02-15T04:57:34.879141",
     "exception": false,
     "start_time": "2025-02-15T04:57:34.574834",
     "status": "completed"
    },
    "tags": []
   },
   "outputs": [
    {
     "data": {
      "image/png": "[encoded data removed]",
      "text/plain": [
       "<Figure size 600x400 with 1 Axes>"
      ]
     },
     "metadata": {},
     "output_type": "display_data"
    }
   ],
   "source": [
    "# Plot ADHD cases by gender\n",
    "plt.figure(figsize=(6, 4))\n",
    "sns.countplot(data=train_Solutions, x=\"Sex_F\", hue=\"ADHD_Outcome\", palette=\"pastel\")\n",
    "\n",
    "# Customize the plot\n",
    "plt.xticks(ticks=[0, 1], labels=[\"Male\", \"Female\"])\n",
    "plt.xlabel(\"Gender\")\n",
    "plt.ylabel(\"Count\")\n",
    "plt.title(\"ADHD Distribution by Gender\")\n",
    "plt.legend(title=\"ADHD Outcome\", labels=[\"No ADHD\", \"ADHD\"])\n",
    "plt.show()\n"
   ]
  },
  {
   "cell_type": "markdown",
   "id": "e0521960",
   "metadata": {
    "papermill": {
     "duration": 0.007774,
     "end_time": "2025-02-15T04:57:34.895203",
     "exception": false,
     "start_time": "2025-02-15T04:57:34.887429",
     "status": "completed"
    },
    "tags": []
   },
   "source": [
    "### From the graph above we can conclude the following \n",
    "1. There are more males than Females in the dataset\n",
    "2. The participants with ADHD are more that those with no ADHD\n",
    "3. More males have ADHD than females\n",
    "\n",
    "This may introduce bias in modelling."
   ]
  },
  {
   "cell_type": "markdown",
   "id": "9dc75485",
   "metadata": {
    "papermill": {
     "duration": 0.007528,
     "end_time": "2025-02-15T04:57:34.910598",
     "exception": false,
     "start_time": "2025-02-15T04:57:34.903070",
     "status": "completed"
    },
    "tags": []
   },
   "source": [
    "### Distribution of Age at time of Scan for the Participants\n",
    "The ages of Participants was between 5-22 years"
   ]
  },
  {
   "cell_type": "code",
   "execution_count": 14,
   "id": "a0744fab",
   "metadata": {
    "execution": {
     "iopub.execute_input": "2025-02-15T04:57:34.927768Z",
     "iopub.status.busy": "2025-02-15T04:57:34.927326Z",
     "iopub.status.idle": "2025-02-15T04:57:34.933844Z",
     "shell.execute_reply": "2025-02-15T04:57:34.932799Z"
    },
    "papermill": {
     "duration": 0.01738,
     "end_time": "2025-02-15T04:57:34.935848",
     "exception": false,
     "start_time": "2025-02-15T04:57:34.918468",
     "status": "completed"
    },
    "tags": []
   },
   "outputs": [
    {
     "data": {
      "text/plain": [
       "Index(['participant_id', 'EHQ_EHQ_Total', 'ColorVision_CV_Score',\n",
       "       'APQ_P_APQ_P_CP', 'APQ_P_APQ_P_ID', 'APQ_P_APQ_P_INV',\n",
       "       'APQ_P_APQ_P_OPD', 'APQ_P_APQ_P_PM', 'APQ_P_APQ_P_PP',\n",
       "       'SDQ_SDQ_Conduct_Problems', 'SDQ_SDQ_Difficulties_Total',\n",
       "       'SDQ_SDQ_Emotional_Problems', 'SDQ_SDQ_Externalizing',\n",
       "       'SDQ_SDQ_Generating_Impact', 'SDQ_SDQ_Hyperactivity',\n",
       "       'SDQ_SDQ_Internalizing', 'SDQ_SDQ_Peer_Problems', 'SDQ_SDQ_Prosocial',\n",
       "       'MRI_Track_Age_at_Scan'],\n",
       "      dtype='object')"
      ]
     },
     "execution_count": 14,
     "metadata": {},
     "output_type": "execute_result"
    }
   ],
   "source": [
    "train_Quant.columns"
   ]
  },
  {
   "cell_type": "code",
   "execution_count": 15,
   "id": "78f5411f",
   "metadata": {
    "execution": {
     "iopub.execute_input": "2025-02-15T04:57:34.953837Z",
     "iopub.status.busy": "2025-02-15T04:57:34.953475Z",
     "iopub.status.idle": "2025-02-15T04:57:34.963786Z",
     "shell.execute_reply": "2025-02-15T04:57:34.962605Z"
    },
    "papermill": {
     "duration": 0.021502,
     "end_time": "2025-02-15T04:57:34.965908",
     "exception": false,
     "start_time": "2025-02-15T04:57:34.944406",
     "status": "completed"
    },
    "tags": []
   },
   "outputs": [
    {
     "data": {
      "text/plain": [
       "count    853.000000\n",
       "mean      11.245678\n",
       "std        3.234372\n",
       "min        0.000000\n",
       "25%        8.803901\n",
       "50%       10.739219\n",
       "75%       13.460871\n",
       "max       21.564453\n",
       "Name: MRI_Track_Age_at_Scan, dtype: float64"
      ]
     },
     "execution_count": 15,
     "metadata": {},
     "output_type": "execute_result"
    }
   ],
   "source": [
    "train_Quant['MRI_Track_Age_at_Scan'].describe()"
   ]
  },
  {
   "cell_type": "code",
   "execution_count": 16,
   "id": "9b012ecd",
   "metadata": {
    "execution": {
     "iopub.execute_input": "2025-02-15T04:57:34.983903Z",
     "iopub.status.busy": "2025-02-15T04:57:34.983569Z",
     "iopub.status.idle": "2025-02-15T04:57:35.214897Z",
     "shell.execute_reply": "2025-02-15T04:57:35.213846Z"
    },
    "papermill": {
     "duration": 0.242585,
     "end_time": "2025-02-15T04:57:35.216860",
     "exception": false,
     "start_time": "2025-02-15T04:57:34.974275",
     "status": "completed"
    },
    "tags": []
   },
   "outputs": [
    {
     "data": {
      "image/png": "[encoded data removed]",
      "text/plain": [
       "<Figure size 1200x1000 with 1 Axes>"
      ]
     },
     "metadata": {},
     "output_type": "display_data"
    }
   ],
   "source": [
    "# Distribution of MRI_Track_Age_at_Scan\n",
    "train_Quant['MRI_Track_Age_at_Scan'].hist(figsize=(12, 10), bins=20)\n",
    "plt.suptitle(\"MRI_Track_Age_at_Scan Distributions\")\n",
    "plt.xlabel('MRI_Track_Age_at_Scan')\n",
    "plt.ylabel('Frequency Count')\n",
    "plt.show()"
   ]
  },
  {
   "cell_type": "markdown",
   "id": "96ec583d",
   "metadata": {
    "papermill": {
     "duration": 0.008589,
     "end_time": "2025-02-15T04:57:35.234458",
     "exception": false,
     "start_time": "2025-02-15T04:57:35.225869",
     "status": "completed"
    },
    "tags": []
   },
   "source": [
    "The majority of the participants are between 7 and 13 years old. Since puberty typically begins between ages 8–13 for girls and 9–14 for boys, we can infer that most participants are in puberty."
   ]
  },
  {
   "cell_type": "markdown",
   "id": "a0ec845b",
   "metadata": {
    "papermill": {
     "duration": 0.008493,
     "end_time": "2025-02-15T04:57:35.251821",
     "exception": false,
     "start_time": "2025-02-15T04:57:35.243328",
     "status": "completed"
    },
    "tags": []
   },
   "source": [
    "### Distribution of SDQ_SDQ_Emotional Problems\n",
    "This is from the Strengths and Difficulties Questionnaire showing the Emotional Problems scales\n"
   ]
  },
  {
   "cell_type": "code",
   "execution_count": 17,
   "id": "5e9f1ca9",
   "metadata": {
    "execution": {
     "iopub.execute_input": "2025-02-15T04:57:35.271206Z",
     "iopub.status.busy": "2025-02-15T04:57:35.270863Z",
     "iopub.status.idle": "2025-02-15T04:57:35.280699Z",
     "shell.execute_reply": "2025-02-15T04:57:35.279453Z"
    },
    "papermill": {
     "duration": 0.021665,
     "end_time": "2025-02-15T04:57:35.282696",
     "exception": false,
     "start_time": "2025-02-15T04:57:35.261031",
     "status": "completed"
    },
    "tags": []
   },
   "outputs": [
    {
     "data": {
      "text/plain": [
       "count    1213.000000\n",
       "mean        5.497939\n",
       "std         2.836764\n",
       "min         0.000000\n",
       "25%         4.000000\n",
       "50%         6.000000\n",
       "75%         8.000000\n",
       "max        10.000000\n",
       "Name: SDQ_SDQ_Hyperactivity, dtype: float64"
      ]
     },
     "execution_count": 17,
     "metadata": {},
     "output_type": "execute_result"
    }
   ],
   "source": [
    "train_Quant['SDQ_SDQ_Hyperactivity'].describe()"
   ]
  },
  {
   "cell_type": "code",
   "execution_count": 18,
   "id": "0b105c51",
   "metadata": {
    "execution": {
     "iopub.execute_input": "2025-02-15T04:57:35.302284Z",
     "iopub.status.busy": "2025-02-15T04:57:35.301913Z",
     "iopub.status.idle": "2025-02-15T04:57:35.312021Z",
     "shell.execute_reply": "2025-02-15T04:57:35.310919Z"
    },
    "papermill": {
     "duration": 0.021987,
     "end_time": "2025-02-15T04:57:35.313862",
     "exception": false,
     "start_time": "2025-02-15T04:57:35.291875",
     "status": "completed"
    },
    "tags": []
   },
   "outputs": [
    {
     "data": {
      "text/plain": [
       "count    1213.000000\n",
       "mean        2.307502\n",
       "std         2.167549\n",
       "min         0.000000\n",
       "25%         1.000000\n",
       "50%         2.000000\n",
       "75%         4.000000\n",
       "max        10.000000\n",
       "Name: SDQ_SDQ_Emotional_Problems, dtype: float64"
      ]
     },
     "execution_count": 18,
     "metadata": {},
     "output_type": "execute_result"
    }
   ],
   "source": [
    "train_Quant['SDQ_SDQ_Emotional_Problems'].describe()"
   ]
  },
  {
   "cell_type": "code",
   "execution_count": 19,
   "id": "fc0fc073",
   "metadata": {
    "execution": {
     "iopub.execute_input": "2025-02-15T04:57:35.333499Z",
     "iopub.status.busy": "2025-02-15T04:57:35.333096Z",
     "iopub.status.idle": "2025-02-15T04:57:35.665508Z",
     "shell.execute_reply": "2025-02-15T04:57:35.664176Z"
    },
    "papermill": {
     "duration": 0.344469,
     "end_time": "2025-02-15T04:57:35.667471",
     "exception": false,
     "start_time": "2025-02-15T04:57:35.323002",
     "status": "completed"
    },
    "tags": []
   },
   "outputs": [
    {
     "name": "stderr",
     "output_type": "stream",
     "text": [
      "/usr/local/lib/python3.10/dist-packages/seaborn/_oldcore.py:1119: FutureWarning: use_inf_as_na option is deprecated and will be removed in a future version. Convert inf values to NaN before operating instead.\n",
      "  with pd.option_context('mode.use_inf_as_na', True):\n"
     ]
    },
    {
     "data": {
      "image/png": "[encoded data removed]",
      "text/plain": [
       "<Figure size 800x600 with 1 Axes>"
      ]
     },
     "metadata": {},
     "output_type": "display_data"
    }
   ],
   "source": [
    "# Plot the distribution of the SDQ_SDQ_Emotional_Problems variable\n",
    "plt.figure(figsize=(8, 6))\n",
    "sns.histplot(train_Quant['SDQ_SDQ_Emotional_Problems'], kde=True, color='skyblue')\n",
    "plt.title('Distribution of SDQ_SDQ_Emotional_Problems')\n",
    "plt.xlabel('SDQ_SDQ_Emotional_Problems')\n",
    "plt.ylabel('Frequency')\n",
    "plt.show()"
   ]
  },
  {
   "cell_type": "markdown",
   "id": "b6c7fe3c",
   "metadata": {
    "papermill": {
     "duration": 0.009789,
     "end_time": "2025-02-15T04:57:35.687600",
     "exception": false,
     "start_time": "2025-02-15T04:57:35.677811",
     "status": "completed"
    },
    "tags": []
   },
   "source": [
    "### Is there a relationship between Emotional Problems scale and ADHD Outcome\n",
    "This boxplot examines the relationship between SDQ_SDQ_Emotional_Problems and ADHD_outcome (as a target variable)."
   ]
  },
  {
   "cell_type": "code",
   "execution_count": 20,
   "id": "9b7a7f89",
   "metadata": {
    "execution": {
     "iopub.execute_input": "2025-02-15T04:57:35.709227Z",
     "iopub.status.busy": "2025-02-15T04:57:35.708828Z",
     "iopub.status.idle": "2025-02-15T04:57:35.715157Z",
     "shell.execute_reply": "2025-02-15T04:57:35.714059Z"
    },
    "papermill": {
     "duration": 0.01922,
     "end_time": "2025-02-15T04:57:35.717015",
     "exception": false,
     "start_time": "2025-02-15T04:57:35.697795",
     "status": "completed"
    },
    "tags": []
   },
   "outputs": [
    {
     "data": {
      "text/plain": [
       "Index(['participant_id', 'EHQ_EHQ_Total', 'ColorVision_CV_Score',\n",
       "       'APQ_P_APQ_P_CP', 'APQ_P_APQ_P_ID', 'APQ_P_APQ_P_INV',\n",
       "       'APQ_P_APQ_P_OPD', 'APQ_P_APQ_P_PM', 'APQ_P_APQ_P_PP',\n",
       "       'SDQ_SDQ_Conduct_Problems', 'SDQ_SDQ_Difficulties_Total',\n",
       "       'SDQ_SDQ_Emotional_Problems', 'SDQ_SDQ_Externalizing',\n",
       "       'SDQ_SDQ_Generating_Impact', 'SDQ_SDQ_Hyperactivity',\n",
       "       'SDQ_SDQ_Internalizing', 'SDQ_SDQ_Peer_Problems', 'SDQ_SDQ_Prosocial',\n",
       "       'MRI_Track_Age_at_Scan'],\n",
       "      dtype='object')"
      ]
     },
     "execution_count": 20,
     "metadata": {},
     "output_type": "execute_result"
    }
   ],
   "source": [
    "train_Quant.columns\n"
   ]
  },
  {
   "cell_type": "code",
   "execution_count": 21,
   "id": "508611b4",
   "metadata": {
    "execution": {
     "iopub.execute_input": "2025-02-15T04:57:35.740933Z",
     "iopub.status.busy": "2025-02-15T04:57:35.740581Z",
     "iopub.status.idle": "2025-02-15T04:57:35.976851Z",
     "shell.execute_reply": "2025-02-15T04:57:35.975794Z"
    },
    "papermill": {
     "duration": 0.250063,
     "end_time": "2025-02-15T04:57:35.978855",
     "exception": false,
     "start_time": "2025-02-15T04:57:35.728792",
     "status": "completed"
    },
    "tags": []
   },
   "outputs": [
    {
     "data": {
      "image/png": "[encoded data removed]",
      "text/plain": [
       "<Figure size 800x600 with 1 Axes>"
      ]
     },
     "metadata": {},
     "output_type": "display_data"
    }
   ],
   "source": [
    "# Check for correlation with ADHD outcome\n",
    "train_Quant_copy = train_Quant.copy()\n",
    "train_Quant_copy['ADHD_Outcome'] = train_Solutions['ADHD_Outcome']\n",
    "\n",
    "plt.figure(figsize=(8, 6))\n",
    "sns.boxplot(x='ADHD_Outcome', y='SDQ_SDQ_Hyperactivity', data=train_Quant_copy)\n",
    "plt.title('SDQ_SDQ_Hyperactivity vs ADHD Outcome')\n",
    "plt.xlabel('ADHD Outcome')\n",
    "plt.ylabel('SDQ_SDQ_Hyperactivity')\n",
    "plt.show()\n"
   ]
  },
  {
   "cell_type": "markdown",
   "id": "52d24ede",
   "metadata": {
    "papermill": {
     "duration": 0.010252,
     "end_time": "2025-02-15T04:57:36.001061",
     "exception": false,
     "start_time": "2025-02-15T04:57:35.990809",
     "status": "completed"
    },
    "tags": []
   },
   "source": [
    "The median for individuals with ADHD is higher than those without ADHD.\n",
    "This means we can associate ADHD with hyperactivity. It is good to note that this symptom is more present in males than females. Since Females have more inattentive characteristics."
   ]
  }
 ],
 "metadata": {
  "kaggle": {
   "accelerator": "none",
   "dataSources": [
    {
     "databundleVersionId": 10712530,
     "sourceId": 90566,
     "sourceType": "competition"
    }
   ],
   "dockerImageVersionId": 30822,
   "isGpuEnabled": false,
   "isInternetEnabled": true,
   "language": "python",
   "sourceType": "notebook"
  },
  "kernelspec": {
   "display_name": "Python 3",
   "language": "python",
   "name": "python3"
  },
  "language_info": {
   "codemirror_mode": {
    "name": "ipython",
    "version": 3
   },
   "file_extension": ".py",
   "mimetype": "text/x-python",
   "name": "python",
   "nbconvert_exporter": "python",
   "pygments_lexer": "ipython3",
   "version": "3.10.12"
  },
  "papermill": {
   "default_parameters": {},
   "duration": 26.183614,
   "end_time": "2025-02-15T04:57:36.833446",
   "environment_variables": {},
   "exception": null,
   "input_path": "__notebook__.ipynb",
   "output_path": "__notebook__.ipynb",
   "parameters": {},
   "start_time": "2025-02-15T04:57:10.649832",
   "version": "2.6.0"
  }
 },
 "nbformat": 4,
 "nbformat_minor": 5
}
